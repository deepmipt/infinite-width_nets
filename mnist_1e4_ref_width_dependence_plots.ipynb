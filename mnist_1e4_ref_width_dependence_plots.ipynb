{
 "cells": [
  {
   "cell_type": "code",
   "execution_count": 1,
   "metadata": {},
   "outputs": [],
   "source": [
    "import pickle\n",
    "import os\n",
    "import sys"
   ]
  },
  {
   "cell_type": "code",
   "execution_count": 2,
   "metadata": {},
   "outputs": [],
   "source": [
    "from collections import defaultdict\n",
    "from utils.dict_utils import dict_to_defaultdict"
   ]
  },
  {
   "cell_type": "code",
   "execution_count": 3,
   "metadata": {},
   "outputs": [],
   "source": [
    "import numpy as np\n",
    "import matplotlib.pyplot as plt\n",
    "%matplotlib inline"
   ]
  },
  {
   "cell_type": "code",
   "execution_count": 4,
   "metadata": {},
   "outputs": [],
   "source": [
    "dataset = 'mnist'\n",
    "train_size = 10000\n",
    "num_hidden = 1\n",
    "bias = False\n",
    "normalization = 'none'\n",
    "optimizer = 'sgd'\n",
    "num_seeds = 5\n",
    "lr = 0.01"
   ]
  },
  {
   "cell_type": "code",
   "execution_count": 5,
   "metadata": {},
   "outputs": [
    {
     "data": {
      "text/plain": [
       "'results/ref_width_dependence/mnist_10000/num_hidden=1_bias=False_normalization=none/sgd_lr=0.01'"
      ]
     },
     "execution_count": 5,
     "metadata": {},
     "output_type": "execute_result"
    }
   ],
   "source": [
    "log_dir = os.path.join(\n",
    "    'results', 'ref_width_dependence', '{}_{}'.format(dataset, train_size), \n",
    "    'num_hidden={}_bias={}_normalization={}'.format(num_hidden, bias, normalization), '{}_lr={}'.format(optimizer, lr))\n",
    "log_dir"
   ]
  },
  {
   "cell_type": "code",
   "execution_count": null,
   "metadata": {},
   "outputs": [],
   "source": [
    "results_all_path = os.path.join(log_dir, 'results_all.dat')\n",
    "results_all = defaultdict(lambda: defaultdict(lambda: defaultdict(lambda: defaultdict(lambda: defaultdict(lambda: defaultdict(lambda: np.nan))))))\n",
    "if os.path.exists(results_all_path):\n",
    "    with open(results_all_path, 'rb') as f:\n",
    "        results_all = dict_to_defaultdict(pickle.load(f), results_all)"
   ]
  },
  {
   "cell_type": "code",
   "execution_count": null,
   "metadata": {},
   "outputs": [],
   "source": [
    "scaling_modes = ['default', 'mean_field', 'ntk', 'mean_field_init_corrected', 'intermediate_q=0.75']\n",
    "ref_widths = [32, 512, 8192, 2**15]\n",
    "correction_epochs = [0]\n",
    "real_widths = [32, 64, 128, 256, 512, 1024, 2048, 4096, 8192]"
   ]
  },
  {
   "cell_type": "code",
   "execution_count": null,
   "metadata": {},
   "outputs": [],
   "source": [
    "plt.rcParams.update({'font.size': 14})"
   ]
  },
  {
   "cell_type": "code",
   "execution_count": null,
   "metadata": {},
   "outputs": [],
   "source": [
    "def draw_curve(scaling_mode, ref_width, correction_epoch, key, idx=None, **kwargs):\n",
    "    if idx is None:\n",
    "        data = [\n",
    "            [\n",
    "                results_all[scaling_mode][ref_width][correction_epoch][real_width][seed][key] \n",
    "                for real_width in real_widths\n",
    "            ] for seed in range(num_seeds)\n",
    "        ]\n",
    "    else:\n",
    "        data = [\n",
    "            [\n",
    "                results_all[scaling_mode][ref_width][correction_epoch][real_width][seed][key][idx][0]\n",
    "                for real_width in real_widths\n",
    "            ] for seed in range(num_seeds)\n",
    "        ]\n",
    "    data = np.array(data)\n",
    "    data_mean = data.mean(axis=0)\n",
    "    data_std = data.std(axis=0)\n",
    "    plt.plot(np.log2(real_widths), data_mean, **kwargs)\n",
    "    plt.fill_between(\n",
    "        np.log2(real_widths),\n",
    "        data_mean - data_std, data_mean + data_std,\n",
    "        alpha=0.3, **kwargs\n",
    "    )"
   ]
  },
  {
   "cell_type": "code",
   "execution_count": null,
   "metadata": {},
   "outputs": [],
   "source": [
    "linestyles = ['solid', 'dashed', 'dotted', 'dashdot']\n",
    "cmap = plt.get_cmap('tab10')\n",
    "keys = ['final_test_loss', 'final_test_acc', 'final_train_loss', 'final_train_acc']\n",
    "ylims = [(0.1,0.3), (0.75, 0.95), (0.0,0.3), (0.9, 1.0)]"
   ]
  },
  {
   "cell_type": "code",
   "execution_count": null,
   "metadata": {},
   "outputs": [],
   "source": [
    "#print(1, file=sys.stderr)\n",
    "for key, ylim in zip(keys, ylims):\n",
    " #   print(2, file=sys.stderr)\n",
    "    _ = plt.figure(figsize=(12,8))\n",
    "  #  print(3, file=sys.stderr)\n",
    "\n",
    "    plt.title(\n",
    "        '{}: num_hidden={}, normalization={}, optimizer={}, lr={}'.format(\n",
    "            key, num_hidden, normalization, optimizer, lr\n",
    "        )\n",
    "    )\n",
    "    \n",
    "    plt.xlabel(\"log_2(d)\")\n",
    "    plt.ylim(ylim)\n",
    "    plt.grid(True)\n",
    "\n",
    "   # print(4, file=sys.stderr)\n",
    "    for k, scaling_mode in enumerate(scaling_modes):\n",
    "    #    print(scaling_mode, file=sys.stderr)\n",
    "        for i, ref_width in enumerate(ref_widths if scaling_mode != 'default' else [None]):\n",
    "     #       print(ref_width, file=sys.stderr)\n",
    "            for j, correction_epoch in enumerate(\n",
    "                correction_epochs if scaling_mode.startswith('mean_field') else [None]\n",
    "            ):\n",
    "                if correction_epoch == 0 and scaling_mode == 'mean_field_var1':\n",
    "                    continue\n",
    "      #          print(correction_epoch, file=sys.stderr)\n",
    "                if scaling_mode == 'default':\n",
    "                    draw_curve(scaling_mode, ref_width, correction_epoch, key, color='black', linestyle='solid', linewidth=2)\n",
    "                else:\n",
    "                    draw_curve(\n",
    "                        scaling_mode, ref_width, correction_epoch, key, color=cmap(i), \n",
    "                        linestyle=linestyles[k-1], linewidth=2+j\n",
    "                    )\n",
    "                    \n",
    "#     plt.legend(\n",
    "#         ['reference: d*=d'] + [\n",
    "#             '{}: d*={}'.format(scaling_mode, ref_width) \n",
    "#             for scaling_mode in scaling_modes[1:] for ref_width in ref_widths\n",
    "#         ]\n",
    "#     )\n",
    "    plt.show()"
   ]
  },
  {
   "cell_type": "code",
   "execution_count": null,
   "metadata": {},
   "outputs": [],
   "source": [
    "linestyles = ['solid', 'dashed', 'dotted', 'dashdot']\n",
    "cmap = plt.get_cmap('tab10')\n",
    "keys = ['final_logits']\n",
    "indices = [0,1,2,3]\n",
    "ylims = [(-2,2)] * len(indices)"
   ]
  },
  {
   "cell_type": "code",
   "execution_count": null,
   "metadata": {},
   "outputs": [],
   "source": [
    "for key in keys:\n",
    "    for idx, ylim in zip(indices, ylims):\n",
    "        _ = plt.figure(figsize=(12,8))\n",
    "\n",
    "        plt.title(\n",
    "            '{}: num_hidden={}, normalization={}, optimizer={}, lr={}'.format(\n",
    "                key, num_hidden, normalization, optimizer, lr\n",
    "            )\n",
    "        )\n",
    "\n",
    "        plt.xlabel(\"log_2(d)\")\n",
    "        #plt.ylim(ylim)\n",
    "        plt.grid(True)\n",
    "\n",
    "        for k, scaling_mode in enumerate(scaling_modes):\n",
    "            for i, ref_width in enumerate(ref_widths if scaling_mode != 'default' else [None]):\n",
    "                for j, correction_epoch in enumerate(\n",
    "                    correction_epochs if scaling_mode.startswith('mean_field') else [None]\n",
    "                ):\n",
    "                    #print(k,i,j)\n",
    "                    if correction_epoch == 0 and scaling_mode == 'mean_field_var1':\n",
    "                        continue\n",
    "                    try:\n",
    "                        if scaling_mode == 'default':\n",
    "                            draw_curve(\n",
    "                                scaling_mode, ref_width, correction_epoch, key, idx=idx, \n",
    "                                color='black', linestyle='solid', linewidth=2\n",
    "                            )\n",
    "                        else:\n",
    "                            draw_curve(\n",
    "                                scaling_mode, ref_width, correction_epoch, key, idx=idx, \n",
    "                                color=cmap(i), linestyle=linestyles[k-1], linewidth=2+j\n",
    "                            )\n",
    "                    except TypeError:\n",
    "                        pass\n",
    "\n",
    "    #     plt.legend(\n",
    "    #         ['reference: d*=d'] + [\n",
    "    #             '{}: d*={}'.format(scaling_mode, ref_width) \n",
    "    #             for scaling_mode in scaling_modes[1:] for ref_width in ref_widths\n",
    "    #         ]\n",
    "    #     )\n",
    "        plt.show()"
   ]
  },
  {
   "cell_type": "code",
   "execution_count": null,
   "metadata": {},
   "outputs": [],
   "source": []
  },
  {
   "cell_type": "code",
   "execution_count": null,
   "metadata": {},
   "outputs": [],
   "source": []
  }
 ],
 "metadata": {
  "kernelspec": {
   "display_name": "Python 3",
   "language": "python",
   "name": "python3"
  },
  "language_info": {
   "codemirror_mode": {
    "name": "ipython",
    "version": 3
   },
   "file_extension": ".py",
   "mimetype": "text/x-python",
   "name": "python",
   "nbconvert_exporter": "python",
   "pygments_lexer": "ipython3",
   "version": "3.6.7"
  }
 },
 "nbformat": 4,
 "nbformat_minor": 2
}
